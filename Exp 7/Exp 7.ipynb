{
 "cells": [
  {
   "cell_type": "markdown",
   "id": "78e02271-a1b1-439a-9e75-715b8e1af98a",
   "metadata": {},
   "source": [
    "# Implement the web scrapping on Amazon website or any shopping site by importing the requests and the Beautigul Soup"
   ]
  },
  {
   "cell_type": "code",
   "execution_count": null,
   "id": "f5025062-9dcc-4059-a04c-cf0d13ef6c40",
   "metadata": {},
   "outputs": [],
   "source": [
    "Two Python Libraries : Beautigul Soup and requests\n",
    "1. BeautifulSoup is a part of bs4 model or package. It is used for parsing HTML and XML documents.\n",
    "2. requests is a library used for sending HTTP requests in Python"
   ]
  },
  {
   "cell_type": "code",
   "execution_count": 1,
   "id": "06bdf1b4-9424-4336-883b-61f6c25a1460",
   "metadata": {},
   "outputs": [
    {
     "name": "stdout",
     "output_type": "stream",
     "text": [
      "Product Title = Bergmann Stunner Car Vacuum Cleaner with Stainless Steel HEPA Filter (Black)\n",
      "Product Price = ₹1,249.00\n",
      "Product Rating = 3.8 out of 5 stars\n",
      "Number of Product Reviews = 7,197 ratings\n",
      "Availability = In stock\n"
     ]
    }
   ],
   "source": [
    "from bs4 import BeautifulSoup\n",
    "import requests\n",
    "\n",
    "# Function to extract Product Title\n",
    "def get_title(soup):\n",
    "    try:\n",
    "        title = soup.find(\"span\", attrs={\"id\": \"productTitle\"})\n",
    "        title_string = title.get_text(strip=True)\n",
    "    except AttributeError:\n",
    "        title_string = \"\"\n",
    "    return title_string\n",
    "\n",
    "# Function to extract Product Price\n",
    "def get_price(soup):\n",
    "    try:\n",
    "        price = soup.find(\"span\", attrs={\"class\": \"a-offscreen\"})\n",
    "        if price is not None:\n",
    "            price_string = price.get_text(strip=True)\n",
    "        else:\n",
    "            price_string = \"\"\n",
    "    except AttributeError:\n",
    "        price_string = \"\"\n",
    "    return price_string\n",
    "\n",
    "# Function to extract Product Rating\n",
    "def get_rating(soup):\n",
    "    try:\n",
    "        rating = soup.find(\"span\", attrs={\"class\": \"a-icon-alt\"})\n",
    "        if rating is not None:\n",
    "            rating_string = rating.get_text(strip=True)\n",
    "        else:\n",
    "            rating_string = \"\"\n",
    "    except AttributeError:\n",
    "        rating_string = \"\"\n",
    "    return rating_string\n",
    "\n",
    "# Function to extract number of user reviews\n",
    "def get_review_count(soup):\n",
    "    try:\n",
    "        review = soup.find(\"span\", attrs={\"id\": \"acrCustomerReviewText\"})\n",
    "        if review is not None:\n",
    "            review_count_string = review.get_text(strip=True)\n",
    "        else:\n",
    "            review_count_string = \"\"\n",
    "    except AttributeError:\n",
    "        review_count_string = \"\"\n",
    "    return review_count_string\n",
    "\n",
    "# Function to extract Availability status\n",
    "def get_availability(soup):\n",
    "    try:\n",
    "        availability = soup.find(\"div\", attrs={\"id\": \"availability\"})\n",
    "        if availability is not None:\n",
    "            availability_string = availability.get_text(strip=True)\n",
    "        else:\n",
    "            availability_string = \"\"\n",
    "    except AttributeError:\n",
    "        availability_string = \"\"\n",
    "    return availability_string\n",
    "\n",
    "if __name__ == \"__main__\":\n",
    "    # headers for request\n",
    "    headers = {\n",
    "        \"User-Agent\": \"Mozilla/5.0 (X11; Linux x86_64) AppleWebKit/537.36 (KHTML, like Gecko) Chrome/58.0.3029.110 Safari/537.36\",\n",
    "        \"Accept-Language\": \"en-US, en;q=0.5\"\n",
    "    }\n",
    "    url = \"https://www.amazon.in/Bergmann-Stunner-Vacuum-Cleaner-Black/dp/B07HDXYKHL/ref=sr_1_11?\"\n",
    "    webpage = requests.get(url, headers=headers)\n",
    "    soup = BeautifulSoup(webpage.content, \"html.parser\")\n",
    "\n",
    "    print(\"Product Title =\", get_title(soup))\n",
    "    print(\"Product Price =\", get_price(soup))\n",
    "    print(\"Product Rating =\", get_rating(soup))\n",
    "    print(\"Number of Product Reviews =\", get_review_count(soup))\n",
    "    print(\"Availability =\", get_availability(soup))"
   ]
  },
  {
   "cell_type": "code",
   "execution_count": null,
   "id": "c6daf374-fdf9-4abd-9e05-0ffbe5b85232",
   "metadata": {},
   "outputs": [],
   "source": []
  }
 ],
 "metadata": {
  "kernelspec": {
   "display_name": "Python 3 (ipykernel)",
   "language": "python",
   "name": "python3"
  },
  "language_info": {
   "codemirror_mode": {
    "name": "ipython",
    "version": 3
   },
   "file_extension": ".py",
   "mimetype": "text/x-python",
   "name": "python",
   "nbconvert_exporter": "python",
   "pygments_lexer": "ipython3",
   "version": "3.12.4"
  }
 },
 "nbformat": 4,
 "nbformat_minor": 5
}
